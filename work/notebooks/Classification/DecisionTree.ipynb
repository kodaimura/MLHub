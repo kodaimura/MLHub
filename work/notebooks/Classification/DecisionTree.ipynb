{
 "cells": [
  {
   "cell_type": "code",
   "execution_count": 1,
   "id": "3b9b4f79-6a93-4528-8adc-aaafc08e0542",
   "metadata": {},
   "outputs": [],
   "source": [
    "using DecisionTree\n",
    "using Random\n",
    "using Statistics"
   ]
  },
  {
   "cell_type": "code",
   "execution_count": 2,
   "id": "3ae07976-2183-4624-a333-ec118b4a6700",
   "metadata": {},
   "outputs": [
    {
     "data": {
      "text/plain": [
       "100"
      ]
     },
     "execution_count": 2,
     "metadata": {},
     "output_type": "execute_result"
    }
   ],
   "source": [
    "Random.seed!(42)\n",
    "n_samples = 100"
   ]
  },
  {
   "cell_type": "code",
   "execution_count": 3,
   "id": "42ea072a-6fe9-4c72-81b9-ac0018f8441a",
   "metadata": {},
   "outputs": [
    {
     "data": {
      "text/plain": [
       "100×2 Matrix{Float64}:\n",
       " 0.173575     0.937288\n",
       " 0.321662     0.732393\n",
       " 0.258585     0.0484837\n",
       " 0.166439     0.699958\n",
       " 0.527015     0.117331\n",
       " 0.483022     0.638571\n",
       " 0.390663     0.957774\n",
       " 0.802763     0.817224\n",
       " 0.980758     0.802052\n",
       " 0.0944314    0.658507\n",
       " 0.544758     0.647766\n",
       " 0.433914     0.22013\n",
       " 0.211228     0.727899\n",
       " ⋮            \n",
       " 0.310797     0.650511\n",
       " 0.199094     0.233777\n",
       " 0.529996     0.869046\n",
       " 0.000715255  0.642221\n",
       " 0.95628      0.546373\n",
       " 0.19808      0.802571\n",
       " 0.902321     0.590144\n",
       " 0.624447     0.936078\n",
       " 0.400373     0.966444\n",
       " 0.774017     0.918565\n",
       " 0.280243     0.65797\n",
       " 0.0369673    0.172211"
      ]
     },
     "execution_count": 3,
     "metadata": {},
     "output_type": "execute_result"
    }
   ],
   "source": [
    "X = rand(n_samples, 2)"
   ]
  },
  {
   "cell_type": "code",
   "execution_count": 4,
   "id": "9204692e-e5cd-4eff-aecc-cf4196b4fb91",
   "metadata": {},
   "outputs": [
    {
     "data": {
      "text/plain": [
       "100-element Vector{String}:\n",
       " \"B\"\n",
       " \"B\"\n",
       " \"A\"\n",
       " \"A\"\n",
       " \"A\"\n",
       " \"B\"\n",
       " \"B\"\n",
       " \"B\"\n",
       " \"B\"\n",
       " \"A\"\n",
       " \"B\"\n",
       " \"A\"\n",
       " \"A\"\n",
       " ⋮\n",
       " \"A\"\n",
       " \"A\"\n",
       " \"B\"\n",
       " \"A\"\n",
       " \"B\"\n",
       " \"B\"\n",
       " \"B\"\n",
       " \"B\"\n",
       " \"B\"\n",
       " \"B\"\n",
       " \"A\"\n",
       " \"A\""
      ]
     },
     "execution_count": 4,
     "metadata": {},
     "output_type": "execute_result"
    }
   ],
   "source": [
    "y = [X[i,1] + X[i,2] < 1 ? \"A\" : \"B\" for i in 1:n_samples]"
   ]
  },
  {
   "cell_type": "code",
   "execution_count": 5,
   "id": "1efc86b4-5b40-4aa5-aaaf-41f9e007c2fd",
   "metadata": {},
   "outputs": [
    {
     "data": {
      "text/plain": [
       "80"
      ]
     },
     "execution_count": 5,
     "metadata": {},
     "output_type": "execute_result"
    }
   ],
   "source": [
    "shuffle_idx = shuffle(1:n_samples)\n",
    "train_size = round(Int, 0.8 * n_samples)"
   ]
  },
  {
   "cell_type": "code",
   "execution_count": 6,
   "id": "390afa22-752a-41ad-bbee-35b6509da447",
   "metadata": {},
   "outputs": [
    {
     "data": {
      "text/plain": [
       "20-element Vector{Int64}:\n",
       " 78\n",
       "  8\n",
       " 99\n",
       " 24\n",
       " 62\n",
       " 75\n",
       "  3\n",
       " 50\n",
       " 80\n",
       " 14\n",
       " 92\n",
       "  4\n",
       " 51\n",
       " 47\n",
       " 71\n",
       " 85\n",
       " 65\n",
       " 72\n",
       " 68\n",
       "  6"
      ]
     },
     "execution_count": 6,
     "metadata": {},
     "output_type": "execute_result"
    }
   ],
   "source": [
    "train_idx = shuffle_idx[1:train_size]\n",
    "test_idx = shuffle_idx[train_size+1:end]"
   ]
  },
  {
   "cell_type": "code",
   "execution_count": 7,
   "id": "f0f65749-d00c-43cd-92dc-860dace9413b",
   "metadata": {},
   "outputs": [
    {
     "data": {
      "text/plain": [
       "([0.8268177665896753 0.38896967499662816; 0.802762551279973 0.8172244613027728; … ; 0.980814224191682 0.18229747129540086; 0.48302213696845187 0.6385712905749883], [\"B\", \"B\", \"A\", \"B\", \"B\", \"A\", \"A\", \"B\", \"B\", \"A\", \"A\", \"A\", \"A\", \"B\", \"A\", \"A\", \"B\", \"B\", \"B\", \"B\"])"
      ]
     },
     "execution_count": 7,
     "metadata": {},
     "output_type": "execute_result"
    }
   ],
   "source": [
    "X_train, y_train = X[train_idx, :], y[train_idx]\n",
    "X_test, y_test = X[test_idx, :], y[test_idx]"
   ]
  },
  {
   "cell_type": "code",
   "execution_count": 8,
   "id": "58a4d4a7-11d9-48ef-a38d-961894e3e4e1",
   "metadata": {},
   "outputs": [
    {
     "data": {
      "text/plain": [
       "DecisionTreeClassifier\n",
       "max_depth:                3\n",
       "min_samples_leaf:         1\n",
       "min_samples_split:        2\n",
       "min_purity_increase:      0.0\n",
       "pruning_purity_threshold: 1.0\n",
       "n_subfeatures:            0\n",
       "classes:                  [\"A\", \"B\"]\n",
       "root:                     Decision Tree\n",
       "Leaves: 6\n",
       "Depth:  3"
      ]
     },
     "execution_count": 8,
     "metadata": {},
     "output_type": "execute_result"
    }
   ],
   "source": [
    "model = DecisionTreeClassifier(max_depth=3)\n",
    "fit!(model, X_train, y_train)"
   ]
  },
  {
   "cell_type": "code",
   "execution_count": 9,
   "id": "6967b713-78f1-448f-91f6-49cc4e7c9372",
   "metadata": {},
   "outputs": [
    {
     "data": {
      "text/plain": [
       "20-element Vector{String}:\n",
       " \"B\"\n",
       " \"B\"\n",
       " \"A\"\n",
       " \"B\"\n",
       " \"B\"\n",
       " \"A\"\n",
       " \"A\"\n",
       " \"B\"\n",
       " \"B\"\n",
       " \"A\"\n",
       " \"A\"\n",
       " \"A\"\n",
       " \"A\"\n",
       " \"A\"\n",
       " \"A\"\n",
       " \"A\"\n",
       " \"B\"\n",
       " \"B\"\n",
       " \"B\"\n",
       " \"A\""
      ]
     },
     "execution_count": 9,
     "metadata": {},
     "output_type": "execute_result"
    }
   ],
   "source": [
    "y_pred = predict(model, X_test)"
   ]
  },
  {
   "cell_type": "code",
   "execution_count": 10,
   "id": "21e1a03d-203d-469f-b34b-aec9cf73ffb2",
   "metadata": {},
   "outputs": [
    {
     "name": "stdout",
     "output_type": "stream",
     "text": [
      "テストデータの精度: 0.9\n"
     ]
    }
   ],
   "source": [
    "accuracy = mean(y_pred .== y_test)\n",
    "println(\"テストデータの精度: $accuracy\")"
   ]
  },
  {
   "cell_type": "code",
   "execution_count": 11,
   "id": "ee45bea8-167c-4bff-a541-a745e209cbe0",
   "metadata": {},
   "outputs": [
    {
     "name": "stdout",
     "output_type": "stream",
     "text": [
      "Feature 2 < 0.7301 ?\n",
      "├─ Feature 1 < 0.7509 ?\n",
      "    ├─ Feature 2 < 0.6259 ?\n",
      "        ├─ A : 28/28\n",
      "        └─ A : 7/9\n",
      "    └─ Feature 2 < 0.1171 ?\n",
      "        ├─ A : 1/1\n",
      "        └─ B : 14/14\n",
      "└─ Feature 1 < 0.1313 ?\n",
      "    ├─ A : 2/2\n",
      "    └─ B : 26/26\n"
     ]
    }
   ],
   "source": [
    "print_tree(model)"
   ]
  }
 ],
 "metadata": {
  "kernelspec": {
   "display_name": "Julia 1.9.3",
   "language": "julia",
   "name": "julia-1.9"
  },
  "language_info": {
   "file_extension": ".jl",
   "mimetype": "application/julia",
   "name": "julia",
   "version": "1.9.3"
  }
 },
 "nbformat": 4,
 "nbformat_minor": 5
}
